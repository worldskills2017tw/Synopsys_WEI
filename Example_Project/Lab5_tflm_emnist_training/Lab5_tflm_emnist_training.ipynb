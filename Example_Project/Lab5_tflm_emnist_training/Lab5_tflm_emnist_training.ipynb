{
 "cells": [
  {
   "cell_type": "code",
   "execution_count": 1,
   "id": "catholic-contractor",
   "metadata": {},
   "outputs": [],
   "source": [
    "import tensorflow.compat.v2 as tf\n",
    "from tensorflow import keras\n",
    "import numpy as np\n",
    "import matplotlib.pyplot as plt\n",
    "from emnist import extract_test_samples\n",
    "from emnist import extract_training_samples\n",
    "from tensorflow.keras.layers import Conv2D, MaxPooling2D, Dense\n",
    "from tensorflow.keras.layers import Activation, BatchNormalization, Flatten\n",
    "from tensorflow.keras.models import Sequential\n",
    "from tensorflow.keras.utils import to_categorical"
   ]
  },
  {
   "cell_type": "markdown",
   "id": "seeing-campaign",
   "metadata": {},
   "source": [
    "## Load and preprocess training and testing dataset"
   ]
  },
  {
   "cell_type": "code",
   "execution_count": 2,
   "id": "dental-beijing",
   "metadata": {},
   "outputs": [],
   "source": [
    "# Import training and testing dataset\n",
    "\n",
    "img_rows = 28\n",
    "img_cols = 28\n",
    "num_classes = 26\n",
    "input_shape = (img_rows, img_cols, 1)\n",
    "filter_x = 5\n",
    "filter_y = 5\n",
    "\n",
    "train_images, train_labels = extract_training_samples('letters')\n",
    "test_images, test_labels = extract_test_samples('letters')\n",
    "\n",
    "# Make class numbering start at 0\n",
    "train_labels = train_labels - 1\n",
    "test_labels = test_labels - 1"
   ]
  },
  {
   "cell_type": "code",
   "execution_count": 3,
   "id": "strong-arthritis",
   "metadata": {},
   "outputs": [],
   "source": [
    "# Dataset preprocessing #1\n",
    "\n",
    "# Reshape \n",
    "train_images = train_images.reshape(train_images.shape[0], img_rows, img_cols, 1) \n",
    "test_images = test_images.reshape(test_images.shape[0], img_rows, img_cols, 1) \n",
    "\n",
    "# Transfer to nparray\n",
    "train_images = train_images.astype('float32')\n",
    "test_images = test_images.astype('float32')\n",
    "\n",
    "train_labels = to_categorical(train_labels, num_classes, dtype = 'float32')\n",
    "test_labels = to_categorical(test_labels, num_classes, dtype = 'float32')"
   ]
  },
  {
   "cell_type": "code",
   "execution_count": 4,
   "id": "acting-director",
   "metadata": {},
   "outputs": [],
   "source": [
    "# Dataset preprocessing #2(continue)\n",
    "\n",
    "# Normalize\n",
    "def thinning(image):\n",
    "    tmp = np.where(image < 210.0, 0, image)\n",
    "    return np.where(image < 210.0, 0, 255)\n",
    "\n",
    "train_images = thinning(train_images)\n",
    "train_images = (train_images - 128.0) / 128.0\n",
    "\n",
    "test_images = thinning(test_images)\n",
    "test_images = (test_images - 128.0) / 128.0"
   ]
  },
  {
   "cell_type": "markdown",
   "id": "favorite-selling",
   "metadata": {},
   "source": [
    "## Model create"
   ]
  },
  {
   "cell_type": "code",
   "execution_count": 5,
   "id": "applicable-webmaster",
   "metadata": {},
   "outputs": [],
   "source": [
    "# Model create #1\n",
    "\n",
    "model=Sequential()\n",
    "#Conv1\n",
    "model.add(Conv2D(filters=16, \n",
    "                 kernel_size=(filter_x, filter_y), \n",
    "                 padding=\"same\",  \n",
    "                 input_shape=input_shape))\n",
    "model.add(BatchNormalization())\n",
    "model.add(Activation(\"relu\"))\n",
    "model.add(MaxPooling2D())\n",
    "\n",
    "#Conv2\n",
    "model.add(Conv2D(filters=32, \n",
    "                 kernel_size=(filter_x, filter_y), \n",
    "                 padding=\"same\", \n",
    "                 input_shape=input_shape))\n",
    "model.add(BatchNormalization())\n",
    "model.add(Activation(\"relu\"))\n",
    "model.add(MaxPooling2D())\n",
    "\n",
    "#Conv3\n",
    "model.add(Conv2D(filters=32, \n",
    "                 kernel_size=(filter_x, filter_y), \n",
    "                 padding=\"same\", \n",
    "                 input_shape=input_shape))\n",
    "model.add(BatchNormalization())\n",
    "model.add(Activation(\"relu\"))\n",
    "model.add(MaxPooling2D())"
   ]
  },
  {
   "cell_type": "code",
   "execution_count": 6,
   "id": "functional-unknown",
   "metadata": {},
   "outputs": [],
   "source": [
    "# Model create #2(continue)\n",
    "\n",
    "#FC1\n",
    "model.add(Flatten())\n",
    "model.add(Dense(64))\n",
    "model.add(BatchNormalization())\n",
    "model.add(Activation(\"relu\"))\n",
    "\n",
    "#FC2\n",
    "model.add(Dense(num_classes))\n",
    "model.add(Activation(\"softmax\"))"
   ]
  },
  {
   "cell_type": "code",
   "execution_count": 7,
   "id": "apparent-space",
   "metadata": {},
   "outputs": [
    {
     "name": "stdout",
     "output_type": "stream",
     "text": [
      "Model: \"sequential\"\n",
      "_________________________________________________________________\n",
      "Layer (type)                 Output Shape              Param #   \n",
      "=================================================================\n",
      "conv2d (Conv2D)              (None, 28, 28, 16)        416       \n",
      "_________________________________________________________________\n",
      "batch_normalization (BatchNo (None, 28, 28, 16)        64        \n",
      "_________________________________________________________________\n",
      "activation (Activation)      (None, 28, 28, 16)        0         \n",
      "_________________________________________________________________\n",
      "max_pooling2d (MaxPooling2D) (None, 14, 14, 16)        0         \n",
      "_________________________________________________________________\n",
      "conv2d_1 (Conv2D)            (None, 14, 14, 32)        12832     \n",
      "_________________________________________________________________\n",
      "batch_normalization_1 (Batch (None, 14, 14, 32)        128       \n",
      "_________________________________________________________________\n",
      "activation_1 (Activation)    (None, 14, 14, 32)        0         \n",
      "_________________________________________________________________\n",
      "max_pooling2d_1 (MaxPooling2 (None, 7, 7, 32)          0         \n",
      "_________________________________________________________________\n",
      "conv2d_2 (Conv2D)            (None, 7, 7, 32)          25632     \n",
      "_________________________________________________________________\n",
      "batch_normalization_2 (Batch (None, 7, 7, 32)          128       \n",
      "_________________________________________________________________\n",
      "activation_2 (Activation)    (None, 7, 7, 32)          0         \n",
      "_________________________________________________________________\n",
      "max_pooling2d_2 (MaxPooling2 (None, 3, 3, 32)          0         \n",
      "_________________________________________________________________\n",
      "flatten (Flatten)            (None, 288)               0         \n",
      "_________________________________________________________________\n",
      "dense (Dense)                (None, 64)                18496     \n",
      "_________________________________________________________________\n",
      "batch_normalization_3 (Batch (None, 64)                256       \n",
      "_________________________________________________________________\n",
      "activation_3 (Activation)    (None, 64)                0         \n",
      "_________________________________________________________________\n",
      "dense_1 (Dense)              (None, 26)                1690      \n",
      "_________________________________________________________________\n",
      "activation_4 (Activation)    (None, 26)                0         \n",
      "=================================================================\n",
      "Total params: 59,642\n",
      "Trainable params: 59,354\n",
      "Non-trainable params: 288\n",
      "_________________________________________________________________\n",
      "None\n"
     ]
    }
   ],
   "source": [
    "# Show your model\n",
    "\n",
    "print(model.summary())"
   ]
  },
  {
   "cell_type": "markdown",
   "id": "optional-darwin",
   "metadata": {},
   "source": [
    "## Model training"
   ]
  },
  {
   "cell_type": "code",
   "execution_count": 8,
   "id": "serial-quarterly",
   "metadata": {},
   "outputs": [
    {
     "name": "stdout",
     "output_type": "stream",
     "text": [
      "Epoch 1/2\n",
      "500/500 [==============================] - 119s 238ms/step - loss: 0.6868 - accuracy: 0.8228 - val_loss: 0.3326 - val_accuracy: 0.8976\n",
      "Epoch 2/2\n",
      "500/500 [==============================] - 117s 234ms/step - loss: 0.2670 - accuracy: 0.9157 - val_loss: 0.3187 - val_accuracy: 0.8983\n"
     ]
    },
    {
     "data": {
      "text/plain": [
       "<tensorflow.python.keras.callbacks.History at 0x222a52cb6c8>"
      ]
     },
     "execution_count": 8,
     "metadata": {},
     "output_type": "execute_result"
    }
   ],
   "source": [
    "# Training model\n",
    "\n",
    "#Define optimizer loss function and merics \n",
    "model.compile(optimizer='adam',\n",
    "              loss='categorical_crossentropy',\n",
    "              metrics=['accuracy'])\n",
    "\n",
    "# Set training\n",
    "model.fit(train_images,train_labels,\n",
    "          validation_split = 0.2,\n",
    "          batch_size = 200,\n",
    "          verbose = 1,\n",
    "          epochs = 2\n",
    "          )"
   ]
  },
  {
   "cell_type": "code",
   "execution_count": 9,
   "id": "subtle-throat",
   "metadata": {},
   "outputs": [
    {
     "name": "stdout",
     "output_type": "stream",
     "text": [
      "test loss 0.3090943694114685\n",
      "accuracy 0.9018269181251526\n"
     ]
    }
   ],
   "source": [
    "# Model Evaluation\n",
    "score = model.evaluate(test_images, test_labels, verbose = 0)\n",
    "\n",
    "print('test loss', score[0])\n",
    "print('accuracy', score[1])\n"
   ]
  },
  {
   "cell_type": "code",
   "execution_count": 10,
   "id": "confidential-beginning",
   "metadata": {},
   "outputs": [],
   "source": [
    "# Save weights of this model\n",
    "model.save_weights('my_model.h5')"
   ]
  },
  {
   "cell_type": "code",
   "execution_count": 11,
   "id": "banner-invalid",
   "metadata": {},
   "outputs": [],
   "source": [
    "#load weights to this TensorFlow model\n",
    "model.load_weights('my_model.h5')"
   ]
  },
  {
   "cell_type": "markdown",
   "id": "hindu-ambassador",
   "metadata": {},
   "source": [
    "---------------------------------------------------------------------------------------------------------------------"
   ]
  },
  {
   "cell_type": "markdown",
   "id": "fewer-alloy",
   "metadata": {},
   "source": [
    "\n",
    "\n",
    "\n",
    "## Reload and preprocess images"
   ]
  },
  {
   "cell_type": "code",
   "execution_count": 12,
   "id": "public-casino",
   "metadata": {},
   "outputs": [],
   "source": [
    "train_images, train_labels = extract_training_samples('letters')\n",
    "test_images, test_labels = extract_test_samples('letters')\n",
    "\n",
    "# Make class numbering start at 0\n",
    "train_labels = train_labels - 1\n",
    "test_labels = test_labels - 1\n",
    "\n",
    "preprocessed_test_images = test_images.reshape([test_images.shape[0], img_rows, img_cols, 1])\n",
    "\n",
    "def thinning(image):\n",
    "    return np.where(image < 210.0, 0, 255)\n",
    "\n",
    "preprocessed_test_images = thinning(preprocessed_test_images)\n",
    "preprocessed_test_images = (preprocessed_test_images - 128.0) / 128.0"
   ]
  },
  {
   "cell_type": "markdown",
   "id": "treated-leonard",
   "metadata": {
    "scrolled": true
   },
   "source": [
    "## Convert model into TFLM format"
   ]
  },
  {
   "cell_type": "code",
   "execution_count": 13,
   "id": "handy-gather",
   "metadata": {},
   "outputs": [],
   "source": [
    "converter = tf.lite.TFLiteConverter.from_keras_model(model)\n",
    "converter.optimizations = [tf.lite.Optimize.DEFAULT]\n",
    "converter.target_spec.supported_ops = [tf.lite.OpsSet.TFLITE_BUILTINS_INT8]\n",
    "converter.inference_input_type = tf.int8\n",
    "converter.inference_output_type = tf.int8"
   ]
  },
  {
   "cell_type": "code",
   "execution_count": 14,
   "id": "sorted-catholic",
   "metadata": {},
   "outputs": [],
   "source": [
    "preprocessed_test_images = tf.cast(preprocessed_test_images, tf.float32)\n",
    "emnist_ds = tf.data.Dataset.from_tensor_slices((preprocessed_test_images)).batch(1) #construct a dataset \n",
    "\n",
    "def representative_data_gen():\n",
    "    for input_value in emnist_ds.take(100):\n",
    "        yield [input_value]\n",
    "    \n",
    "converter.representative_dataset = representative_data_gen"
   ]
  },
  {
   "cell_type": "markdown",
   "id": "given-boutique",
   "metadata": {},
   "source": [
    "## Convert the model to TensorFlow Lite format and save it to a file:"
   ]
  },
  {
   "cell_type": "code",
   "execution_count": 15,
   "id": "weekly-watch",
   "metadata": {},
   "outputs": [
    {
     "name": "stdout",
     "output_type": "stream",
     "text": [
      "WARNING:tensorflow:From C:\\Users\\williet\\Anaconda3\\envs\\tf2\\lib\\site-packages\\tensorflow\\python\\training\\tracking\\tracking.py:111: Model.state_updates (from tensorflow.python.keras.engine.training) is deprecated and will be removed in a future version.\n",
      "Instructions for updating:\n",
      "This property should not be used in TensorFlow 2.0, as updates are applied automatically.\n",
      "WARNING:tensorflow:From C:\\Users\\williet\\Anaconda3\\envs\\tf2\\lib\\site-packages\\tensorflow\\python\\training\\tracking\\tracking.py:111: Layer.updates (from tensorflow.python.keras.engine.base_layer) is deprecated and will be removed in a future version.\n",
      "Instructions for updating:\n",
      "This property should not be used in TensorFlow 2.0, as updates are applied automatically.\n",
      "INFO:tensorflow:Assets written to: C:\\Users\\williet\\AppData\\Local\\Temp\\tmplf32hp2x\\assets\n"
     ]
    },
    {
     "data": {
      "text/plain": [
       "67696"
      ]
     },
     "execution_count": 15,
     "metadata": {},
     "output_type": "execute_result"
    }
   ],
   "source": [
    "import pathlib\n",
    "\n",
    "converted_model = converter.convert()\n",
    "\n",
    "generated_dir = pathlib.Path(\"generated/\")\n",
    "generated_dir.mkdir(exist_ok=True, parents=True)\n",
    "converted_model_file = generated_dir/\"emnist_model_int8.tflite\"\n",
    "converted_model_file.write_bytes(converted_model)"
   ]
  },
  {
   "cell_type": "markdown",
   "id": "floating-slovenia",
   "metadata": {},
   "source": [
    "In order to integrate converted model into TFLM application we have to save it as a C array. One way to do that is to use **xxd** utility available on Linux or in Cygwin/MinGW terminals on Windows. Open terminal and run following commands:\n",
    "\n",
    "```\n",
    "cd generated/\n",
    "xxd -i emnist_model_int8.tflite > model.h\n",
    "```\n",
    "\n",
    "The model is ready to be integrated into TFLM application."
   ]
  },
  {
   "cell_type": "markdown",
   "id": "cooperative-hurricane",
   "metadata": {},
   "source": [
    "## Create a test set for target application"
   ]
  },
  {
   "cell_type": "code",
   "execution_count": 16,
   "id": "contemporary-bench",
   "metadata": {},
   "outputs": [
    {
     "data": {
      "image/png": "[encoded data removed]",
      "text/plain": [
       "<Figure size 360x360 with 25 Axes>"
      ]
     },
     "metadata": {
      "needs_background": "light"
     },
     "output_type": "display_data"
    }
   ],
   "source": [
    "import random\n",
    "\n",
    "train_images, train_labels = extract_training_samples('letters')\n",
    "test_images, test_labels = extract_test_samples('letters')\n",
    "\n",
    "# Make class numbering start at 0\n",
    "train_labels = train_labels - 1\n",
    "test_labels = test_labels - 1\n",
    "\n",
    "num_of_samples = 25\n",
    "random_test_images = random.sample(range(1, test_images.shape[0]), num_of_samples)\n",
    "\n",
    "fig=plt.figure(figsize=(5, 5))\n",
    "cols = 5\n",
    "rows = 5\n",
    "\n",
    "for plt_idx, img_idx in enumerate(random_test_images, 1):\n",
    "    img = test_images[img_idx]\n",
    "    fig.add_subplot(rows, cols, plt_idx)\n",
    "    plt.imshow(img)\n",
    "plt.show()"
   ]
  },
  {
   "cell_type": "code",
   "execution_count": 17,
   "id": "seven-problem",
   "metadata": {},
   "outputs": [],
   "source": [
    "samples_file = open(\"generated/test_samples.cc\", \"w\")\n",
    "\n",
    "samples_file.write(\"#include \\\"test_samples.h\\\"\\n\\n\")\n",
    "samples_file.write(\"const int kNumSamples = \" + str(num_of_samples) + \";\\n\\n\")\n",
    "\n",
    "samples = \"\" \n",
    "samples_array = \"const TestSample test_samples[kNumSamples] = {\"\n",
    "\n",
    "for sample_idx, img_idx in enumerate(random_test_images, 1):\n",
    "    img_arr = list(np.ndarray.flatten(test_images[img_idx]))\n",
    "    var_name = \"sample\" + str(sample_idx)\n",
    "    samples += \"TestSample \" + var_name + \" = {\\n\" #+ \"[IMAGE_SIZE] = { \"\n",
    "    samples += \"\\t.label = \" + str(test_labels[img_idx]) + \",\\n\" \n",
    "    samples += \"\\t.image = {\\n\"\n",
    "    wrapped_arr = [img_arr[i:i + 20] for i in range(0, len(img_arr), 20)]\n",
    "    for sub_arr in wrapped_arr:\n",
    "        samples += \"\\t\\t\" + str(sub_arr)\n",
    "    samples += \"\\t}\\n};\\n\\n\"    \n",
    "    samples_array += var_name + \", \"\n",
    "    \n",
    "samples = samples.replace(\"[\", \"\")\n",
    "samples = samples.replace(\"]\", \",\\n\")\n",
    "samples_array += \"};\\n\"\n",
    "\n",
    "samples_file.write(samples);\n",
    "samples_file.write(samples_array);\n",
    "samples_file.close()"
   ]
  },
  {
   "cell_type": "markdown",
   "id": "recent-knight",
   "metadata": {},
   "source": [
    "## Done"
   ]
  },
  {
   "cell_type": "markdown",
   "id": "improved-enough",
   "metadata": {},
   "source": [
    "You have converted a Tensorflow model into TFLM format and generated a test set for the application. Now you can copy generated files into target application of this tutorial and try it out:\n",
    "\n",
    "In order to integrate converted model into TFLM application we have to save it as a C array. One way to do that is to use **xxd** utility available on Linux or in Cygwin/MinGW terminals on Windows. Open terminal and run following commands:\n",
    "\n",
    "```\n",
    "cd generated/\n",
    "xxd -i emnist_model_int8.tflite > model.h\n",
    "```\n",
    "\n",
    "The model is ready to be integrated into TFLM application.\n",
    "\n",
    "* copy *generated/model.h* to *../inc* and *generated/test_samples.cc* to *../src*\n",
    "* You can start to integrate your WE-I project"
   ]
  },
  {
   "cell_type": "markdown",
   "id": "selective-permission",
   "metadata": {},
   "source": [
    "## Evaluate TensorFlow Lite Model"
   ]
  },
  {
   "cell_type": "markdown",
   "id": "brilliant-general",
   "metadata": {},
   "source": [
    "Full test set contains 20800 samples. Evaluating int8 model on it might take more than 10 minutes. \n",
    "If you want to get estimation faster, please, limit number of samples to be evaluated by reducing **max_samples** value"
   ]
  },
  {
   "cell_type": "code",
   "execution_count": 24,
   "id": "mounted-maker",
   "metadata": {},
   "outputs": [],
   "source": [
    "max_samples = 1000"
   ]
  },
  {
   "cell_type": "code",
   "execution_count": 25,
   "id": "heavy-hardwood",
   "metadata": {},
   "outputs": [],
   "source": [
    "interpreter = tf.lite.Interpreter(model_path=str(converted_model_file))\n",
    "interpreter.allocate_tensors()\n",
    "\n",
    "# A helper function to evaluate the TF Lite model using \"test\" dataset.\n",
    "def evaluate_model(interpreter):\n",
    "    input_index = interpreter.get_input_details()[0][\"index\"]\n",
    "    output_index = interpreter.get_output_details()[0][\"index\"]\n",
    "    scale, zero_point = interpreter.get_output_details()[0]['quantization']\n",
    "\n",
    "    prediction_values = []\n",
    "    \n",
    "    for test_image in preprocessed_test_images[:max_samples]:\n",
    "        # Pre-processing: add batch dimension, quantize and convert inputs to int8 to match with\n",
    "        # the model's input data format.\n",
    "        test_image = np.expand_dims(test_image, axis=0) #.astype(np.float32)\n",
    "        test_image = np.int8(test_image / scale + zero_point)\n",
    "        interpreter.set_tensor(input_index, test_image)\n",
    "\n",
    "        interpreter.invoke()\n",
    "\n",
    "        # Find the letter with highest probability\n",
    "        output = interpreter.tensor(output_index)\n",
    "        result = np.argmax(output()[0])\n",
    "        prediction_values.append(result)\n",
    "    \n",
    "    accurate_count = 0\n",
    "    for index in range(len(prediction_values)):\n",
    "        if prediction_values[index] == test_labels[index]:\n",
    "            accurate_count += 1\n",
    "    accuracy = accurate_count * 1.0 / len(prediction_values)\n",
    "\n",
    "    return accuracy * 100"
   ]
  },
  {
   "cell_type": "markdown",
   "id": "disabled-tower",
   "metadata": {},
   "source": [
    "Please, keep in mind that full test dataset evaluation on int8 model may take several minutes. "
   ]
  },
  {
   "cell_type": "code",
   "execution_count": 26,
   "id": "potential-universe",
   "metadata": {},
   "outputs": [
    {
     "name": "stdout",
     "output_type": "stream",
     "text": [
      "77.9%\n"
     ]
    }
   ],
   "source": [
    "print(str(evaluate_model(interpreter)) + \"%\")"
   ]
  },
  {
   "cell_type": "code",
   "execution_count": null,
   "id": "australian-laptop",
   "metadata": {},
   "outputs": [],
   "source": []
  }
 ],
 "metadata": {
  "kernelspec": {
   "display_name": "Python 3",
   "language": "python",
   "name": "python3"
  },
  "language_info": {
   "codemirror_mode": {
    "name": "ipython",
    "version": 3
   },
   "file_extension": ".py",
   "mimetype": "text/x-python",
   "name": "python",
   "nbconvert_exporter": "python",
   "pygments_lexer": "ipython3",
   "version": "3.7.10"
  }
 },
 "nbformat": 4,
 "nbformat_minor": 5
}
